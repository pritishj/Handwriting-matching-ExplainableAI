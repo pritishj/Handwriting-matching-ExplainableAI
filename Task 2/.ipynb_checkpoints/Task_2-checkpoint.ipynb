{
 "cells": [
  {
   "cell_type": "code",
   "execution_count": 1,
   "metadata": {
    "colab": {},
    "colab_type": "code",
    "id": "KEuAiZ1aKq7w"
   },
   "outputs": [],
   "source": [
    "import pandas as pd\n",
    "import numpy as np\n",
    "import random\n",
    "from pgmpy.models import BayesianModel\n",
    "from pgmpy.inference import VariableElimination\n",
    "from pgmpy.factors.discrete import TabularCPD\n",
    "from collections import defaultdict\n",
    "from pgmpy.estimators import K2Score\n",
    "import time\n",
    "from os import listdir\n",
    "from os.path import isfile, join"
   ]
  },
  {
   "cell_type": "markdown",
   "metadata": {
    "colab_type": "text",
    "id": "msTO4G1TKq8n"
   },
   "source": [
    "## Preprocessing"
   ]
  },
  {
   "cell_type": "code",
   "execution_count": 2,
   "metadata": {
    "colab": {
     "base_uri": "https://localhost:8080/",
     "height": 258
    },
    "colab_type": "code",
    "id": "zzpl78xzKq8w",
    "outputId": "0220c490-4fcc-410c-ad29-3fed324f1273"
   },
   "outputs": [
    {
     "data": {
      "text/html": [
       "<div>\n",
       "<style scoped>\n",
       "    .dataframe tbody tr th:only-of-type {\n",
       "        vertical-align: middle;\n",
       "    }\n",
       "\n",
       "    .dataframe tbody tr th {\n",
       "        vertical-align: top;\n",
       "    }\n",
       "\n",
       "    .dataframe thead th {\n",
       "        text-align: right;\n",
       "    }\n",
       "</style>\n",
       "<table border=\"1\" class=\"dataframe\">\n",
       "  <thead>\n",
       "    <tr style=\"text-align: right;\">\n",
       "      <th></th>\n",
       "      <th>pen_pressure</th>\n",
       "      <th>letter_spacing</th>\n",
       "      <th>size</th>\n",
       "      <th>dimension</th>\n",
       "      <th>is_lowercase</th>\n",
       "      <th>is_continuous</th>\n",
       "      <th>slantness</th>\n",
       "      <th>tilt</th>\n",
       "      <th>entry_stroke_a</th>\n",
       "      <th>staff_of_a</th>\n",
       "      <th>formation_n</th>\n",
       "      <th>staff_of_d</th>\n",
       "      <th>exit_stroke_d</th>\n",
       "      <th>word_formation</th>\n",
       "      <th>constancy</th>\n",
       "    </tr>\n",
       "    <tr>\n",
       "      <th>imagename</th>\n",
       "      <th></th>\n",
       "      <th></th>\n",
       "      <th></th>\n",
       "      <th></th>\n",
       "      <th></th>\n",
       "      <th></th>\n",
       "      <th></th>\n",
       "      <th></th>\n",
       "      <th></th>\n",
       "      <th></th>\n",
       "      <th></th>\n",
       "      <th></th>\n",
       "      <th></th>\n",
       "      <th></th>\n",
       "      <th></th>\n",
       "    </tr>\n",
       "  </thead>\n",
       "  <tbody>\n",
       "    <tr>\n",
       "      <th>0968c_num1.png</th>\n",
       "      <td>1</td>\n",
       "      <td>1</td>\n",
       "      <td>1</td>\n",
       "      <td>0</td>\n",
       "      <td>1</td>\n",
       "      <td>1</td>\n",
       "      <td>2</td>\n",
       "      <td>1</td>\n",
       "      <td>0</td>\n",
       "      <td>1</td>\n",
       "      <td>1</td>\n",
       "      <td>2</td>\n",
       "      <td>1</td>\n",
       "      <td>1</td>\n",
       "      <td>0</td>\n",
       "    </tr>\n",
       "    <tr>\n",
       "      <th>0809c_num2.png</th>\n",
       "      <td>1</td>\n",
       "      <td>1</td>\n",
       "      <td>1</td>\n",
       "      <td>1</td>\n",
       "      <td>1</td>\n",
       "      <td>1</td>\n",
       "      <td>2</td>\n",
       "      <td>0</td>\n",
       "      <td>0</td>\n",
       "      <td>1</td>\n",
       "      <td>1</td>\n",
       "      <td>2</td>\n",
       "      <td>0</td>\n",
       "      <td>1</td>\n",
       "      <td>1</td>\n",
       "    </tr>\n",
       "    <tr>\n",
       "      <th>0237b_num6.png</th>\n",
       "      <td>1</td>\n",
       "      <td>1</td>\n",
       "      <td>1</td>\n",
       "      <td>1</td>\n",
       "      <td>1</td>\n",
       "      <td>1</td>\n",
       "      <td>1</td>\n",
       "      <td>1</td>\n",
       "      <td>0</td>\n",
       "      <td>1</td>\n",
       "      <td>1</td>\n",
       "      <td>1</td>\n",
       "      <td>1</td>\n",
       "      <td>1</td>\n",
       "      <td>1</td>\n",
       "    </tr>\n",
       "    <tr>\n",
       "      <th>0069b_num2.png</th>\n",
       "      <td>1</td>\n",
       "      <td>1</td>\n",
       "      <td>1</td>\n",
       "      <td>0</td>\n",
       "      <td>1</td>\n",
       "      <td>1</td>\n",
       "      <td>0</td>\n",
       "      <td>0</td>\n",
       "      <td>0</td>\n",
       "      <td>0</td>\n",
       "      <td>0</td>\n",
       "      <td>0</td>\n",
       "      <td>0</td>\n",
       "      <td>0</td>\n",
       "      <td>0</td>\n",
       "    </tr>\n",
       "    <tr>\n",
       "      <th>0966c_num4.png</th>\n",
       "      <td>1</td>\n",
       "      <td>1</td>\n",
       "      <td>1</td>\n",
       "      <td>1</td>\n",
       "      <td>1</td>\n",
       "      <td>1</td>\n",
       "      <td>1</td>\n",
       "      <td>0</td>\n",
       "      <td>0</td>\n",
       "      <td>1</td>\n",
       "      <td>1</td>\n",
       "      <td>1</td>\n",
       "      <td>1</td>\n",
       "      <td>1</td>\n",
       "      <td>1</td>\n",
       "    </tr>\n",
       "  </tbody>\n",
       "</table>\n",
       "</div>"
      ],
      "text/plain": [
       "                pen_pressure  letter_spacing  size  dimension  is_lowercase  \\\n",
       "imagename                                                                     \n",
       "0968c_num1.png             1               1     1          0             1   \n",
       "0809c_num2.png             1               1     1          1             1   \n",
       "0237b_num6.png             1               1     1          1             1   \n",
       "0069b_num2.png             1               1     1          0             1   \n",
       "0966c_num4.png             1               1     1          1             1   \n",
       "\n",
       "                is_continuous  slantness  tilt  entry_stroke_a  staff_of_a  \\\n",
       "imagename                                                                    \n",
       "0968c_num1.png              1          2     1               0           1   \n",
       "0809c_num2.png              1          2     0               0           1   \n",
       "0237b_num6.png              1          1     1               0           1   \n",
       "0069b_num2.png              1          0     0               0           0   \n",
       "0966c_num4.png              1          1     0               0           1   \n",
       "\n",
       "                formation_n  staff_of_d  exit_stroke_d  word_formation  \\\n",
       "imagename                                                                \n",
       "0968c_num1.png            1           2              1               1   \n",
       "0809c_num2.png            1           2              0               1   \n",
       "0237b_num6.png            1           1              1               1   \n",
       "0069b_num2.png            0           0              0               0   \n",
       "0966c_num4.png            1           1              1               1   \n",
       "\n",
       "                constancy  \n",
       "imagename                  \n",
       "0968c_num1.png          0  \n",
       "0809c_num2.png          1  \n",
       "0237b_num6.png          1  \n",
       "0069b_num2.png          0  \n",
       "0966c_num4.png          1  "
      ]
     },
     "execution_count": 2,
     "metadata": {},
     "output_type": "execute_result"
    }
   ],
   "source": [
    "data = pd.read_csv('../15features.csv')\n",
    "data = data.set_index('imagename')\n",
    "\n",
    "\n",
    "data[data.columns]-=1\n",
    "data.head()"
   ]
  },
  {
   "cell_type": "code",
   "execution_count": 0,
   "metadata": {
    "colab": {},
    "colab_type": "code",
    "id": "v9hiB1zrKq9P"
   },
   "outputs": [],
   "source": [
    "def data_csv(data_dir):\n",
    "    train_data = pd.read_csv(join(data_dir,\"dataset_seen_training_siamese.csv\"),index_col=0)\n",
    "    val_data = pd.read_csv(join(data_dir,\"dataset_seen_validation_siamese.csv\"),index_col=0)\n",
    "    train_data = train_data.values.tolist()\n",
    "    val_data = val_data.values.tolist()\n",
    "    tmp = []\n",
    "    for i in train_data:\n",
    "        try:\n",
    "            tmp.append(list(data.loc[i[0]])+list(data.loc[i[1]])+[i[2]])\n",
    "        except:\n",
    "            continue\n",
    "    train_data = tmp\n",
    "    tmp = []\n",
    "    for i in val_data:\n",
    "        try:\n",
    "            tmp.append(list(data.loc[i[0]])+list(data.loc[i[1]])+[i[2]])\n",
    "        except:\n",
    "            continue\n",
    "    val_data = tmp\n",
    "    train_data = pd.DataFrame(train_data)\n",
    "    val_data = pd.DataFrame(val_data)\n",
    "    train_data.columns = val_data.columns = [\"f%d\"%i for i in range(1,16)]+[\"g%d\"%i for i in range(1,16)]+[\"op\"]\n",
    "    return train_data,val_data"
   ]
  },
  {
   "cell_type": "code",
   "execution_count": 0,
   "metadata": {
    "colab": {},
    "colab_type": "code",
    "id": "ZX0BGpPOKq9h"
   },
   "outputs": [],
   "source": [
    "seen_train, seen_val = data_csv('../seen-dataset')\n",
    "unseen_train, unseen_val = data_csv('../unseen-dataset')\n",
    "shuffled_train, shuffled_val = data_csv('../shuffled-dataset')"
   ]
  },
  {
   "cell_type": "markdown",
   "metadata": {
    "colab_type": "text",
    "id": "MJX_gUomKq9w"
   },
   "source": [
    "## Check correlation of edges"
   ]
  },
  {
   "cell_type": "code",
   "execution_count": 0,
   "metadata": {
    "colab": {},
    "colab_type": "code",
    "id": "1TX2c_U-Kq92"
   },
   "outputs": [],
   "source": [
    "corr = []\n",
    "col = list(data.columns)\n",
    "for i in col:\n",
    "    tmp = []\n",
    "    for j in col:\n",
    "        tmp.append(np.correlate(data[i],data[j]))\n",
    "    corr.append(tmp)"
   ]
  },
  {
   "cell_type": "code",
   "execution_count": 0,
   "metadata": {
    "colab": {
     "base_uri": "https://localhost:8080/",
     "height": 238
    },
    "colab_type": "code",
    "id": "GCYcGO5BKq-T",
    "outputId": "17b2bc1b-2120-4e76-8773-e9fdfa3308fe"
   },
   "outputs": [
    {
     "data": {
      "text/html": [
       "<div>\n",
       "<style scoped>\n",
       "    .dataframe tbody tr th:only-of-type {\n",
       "        vertical-align: middle;\n",
       "    }\n",
       "\n",
       "    .dataframe tbody tr th {\n",
       "        vertical-align: top;\n",
       "    }\n",
       "\n",
       "    .dataframe thead th {\n",
       "        text-align: right;\n",
       "    }\n",
       "</style>\n",
       "<table border=\"1\" class=\"dataframe\">\n",
       "  <thead>\n",
       "    <tr style=\"text-align: right;\">\n",
       "      <th></th>\n",
       "      <th>f1</th>\n",
       "      <th>f2</th>\n",
       "      <th>f3</th>\n",
       "      <th>f4</th>\n",
       "      <th>f5</th>\n",
       "      <th>f6</th>\n",
       "      <th>f7</th>\n",
       "      <th>f8</th>\n",
       "      <th>f9</th>\n",
       "      <th>f10</th>\n",
       "      <th>f11</th>\n",
       "      <th>f12</th>\n",
       "      <th>f13</th>\n",
       "      <th>f14</th>\n",
       "      <th>f15</th>\n",
       "    </tr>\n",
       "    <tr>\n",
       "      <th>imagename</th>\n",
       "      <th></th>\n",
       "      <th></th>\n",
       "      <th></th>\n",
       "      <th></th>\n",
       "      <th></th>\n",
       "      <th></th>\n",
       "      <th></th>\n",
       "      <th></th>\n",
       "      <th></th>\n",
       "      <th></th>\n",
       "      <th></th>\n",
       "      <th></th>\n",
       "      <th></th>\n",
       "      <th></th>\n",
       "      <th></th>\n",
       "    </tr>\n",
       "  </thead>\n",
       "  <tbody>\n",
       "    <tr>\n",
       "      <th>0968c_num1.png</th>\n",
       "      <td>1</td>\n",
       "      <td>1</td>\n",
       "      <td>1</td>\n",
       "      <td>0</td>\n",
       "      <td>1</td>\n",
       "      <td>1</td>\n",
       "      <td>2</td>\n",
       "      <td>1</td>\n",
       "      <td>0</td>\n",
       "      <td>1</td>\n",
       "      <td>1</td>\n",
       "      <td>2</td>\n",
       "      <td>1</td>\n",
       "      <td>1</td>\n",
       "      <td>0</td>\n",
       "    </tr>\n",
       "    <tr>\n",
       "      <th>0809c_num2.png</th>\n",
       "      <td>1</td>\n",
       "      <td>1</td>\n",
       "      <td>1</td>\n",
       "      <td>1</td>\n",
       "      <td>1</td>\n",
       "      <td>1</td>\n",
       "      <td>2</td>\n",
       "      <td>0</td>\n",
       "      <td>0</td>\n",
       "      <td>1</td>\n",
       "      <td>1</td>\n",
       "      <td>2</td>\n",
       "      <td>0</td>\n",
       "      <td>1</td>\n",
       "      <td>1</td>\n",
       "    </tr>\n",
       "    <tr>\n",
       "      <th>0237b_num6.png</th>\n",
       "      <td>1</td>\n",
       "      <td>1</td>\n",
       "      <td>1</td>\n",
       "      <td>1</td>\n",
       "      <td>1</td>\n",
       "      <td>1</td>\n",
       "      <td>1</td>\n",
       "      <td>1</td>\n",
       "      <td>0</td>\n",
       "      <td>1</td>\n",
       "      <td>1</td>\n",
       "      <td>1</td>\n",
       "      <td>1</td>\n",
       "      <td>1</td>\n",
       "      <td>1</td>\n",
       "    </tr>\n",
       "    <tr>\n",
       "      <th>0069b_num2.png</th>\n",
       "      <td>1</td>\n",
       "      <td>1</td>\n",
       "      <td>1</td>\n",
       "      <td>0</td>\n",
       "      <td>1</td>\n",
       "      <td>1</td>\n",
       "      <td>0</td>\n",
       "      <td>0</td>\n",
       "      <td>0</td>\n",
       "      <td>0</td>\n",
       "      <td>0</td>\n",
       "      <td>0</td>\n",
       "      <td>0</td>\n",
       "      <td>0</td>\n",
       "      <td>0</td>\n",
       "    </tr>\n",
       "    <tr>\n",
       "      <th>0966c_num4.png</th>\n",
       "      <td>1</td>\n",
       "      <td>1</td>\n",
       "      <td>1</td>\n",
       "      <td>1</td>\n",
       "      <td>1</td>\n",
       "      <td>1</td>\n",
       "      <td>1</td>\n",
       "      <td>0</td>\n",
       "      <td>0</td>\n",
       "      <td>1</td>\n",
       "      <td>1</td>\n",
       "      <td>1</td>\n",
       "      <td>1</td>\n",
       "      <td>1</td>\n",
       "      <td>1</td>\n",
       "    </tr>\n",
       "  </tbody>\n",
       "</table>\n",
       "</div>"
      ],
      "text/plain": [
       "                f1  f2  f3  f4  f5  f6  f7  f8  f9  f10  f11  f12  f13  f14  \\\n",
       "imagename                                                                     \n",
       "0968c_num1.png   1   1   1   0   1   1   2   1   0    1    1    2    1    1   \n",
       "0809c_num2.png   1   1   1   1   1   1   2   0   0    1    1    2    0    1   \n",
       "0237b_num6.png   1   1   1   1   1   1   1   1   0    1    1    1    1    1   \n",
       "0069b_num2.png   1   1   1   0   1   1   0   0   0    0    0    0    0    0   \n",
       "0966c_num4.png   1   1   1   1   1   1   1   0   0    1    1    1    1    1   \n",
       "\n",
       "                f15  \n",
       "imagename            \n",
       "0968c_num1.png    0  \n",
       "0809c_num2.png    1  \n",
       "0237b_num6.png    1  \n",
       "0069b_num2.png    0  \n",
       "0966c_num4.png    1  "
      ]
     },
     "execution_count": 76,
     "metadata": {
      "tags": []
     },
     "output_type": "execute_result"
    }
   ],
   "source": [
    "data.head()"
   ]
  },
  {
   "cell_type": "code",
   "execution_count": 0,
   "metadata": {
    "colab": {},
    "colab_type": "code",
    "id": "S5I1buUtKq-1"
   },
   "outputs": [],
   "source": [
    "corr =np.array(corr)"
   ]
  },
  {
   "cell_type": "code",
   "execution_count": 0,
   "metadata": {
    "colab": {},
    "colab_type": "code",
    "id": "FBEOlPu3Kq_K"
   },
   "outputs": [],
   "source": [
    "# Min max normalised correlation\n",
    "corr = (corr-np.mean(corr))/(np.max(corr)-np.min(corr))"
   ]
  },
  {
   "cell_type": "code",
   "execution_count": 0,
   "metadata": {
    "colab": {},
    "colab_type": "code",
    "id": "a20UGS0UKq_s"
   },
   "outputs": [],
   "source": [
    "corr_dic = defaultdict(lambda: 0)"
   ]
  },
  {
   "cell_type": "code",
   "execution_count": 0,
   "metadata": {
    "colab": {
     "base_uri": "https://localhost:8080/",
     "height": 285
    },
    "colab_type": "code",
    "id": "NlStdwJHKq_-",
    "outputId": "1f6c7375-b2b0-4e0b-99a8-2145cfaabccc"
   },
   "outputs": [
    {
     "name": "stdout",
     "output_type": "stream",
     "text": [
      "-0.020\t 0.002\t -0.054\t -0.081\t -0.021\t -0.088\t -0.062\t -0.207\t -0.232\t 0.028\t -0.078\t 0.062\t 0.060\t -0.155\t -0.115\t \n",
      "0.347\t 0.146\t 0.092\t 0.142\t 0.001\t 0.038\t -0.172\t -0.229\t 0.245\t 0.057\t 0.265\t 0.246\t -0.076\t -0.008\t \n",
      "0.332\t 0.222\t 0.134\t -0.022\t -0.003\t -0.177\t -0.234\t 0.252\t 0.085\t 0.233\t 0.177\t -0.042\t 0.020\t \n",
      "0.231\t 0.083\t -0.054\t -0.039\t -0.186\t -0.236\t 0.188\t 0.046\t 0.169\t 0.122\t -0.066\t -0.012\t \n",
      "0.131\t 0.008\t 0.035\t -0.177\t -0.226\t 0.220\t 0.043\t 0.253\t 0.231\t -0.086\t -0.020\t \n",
      "0.008\t -0.041\t -0.199\t -0.228\t 0.058\t -0.067\t 0.124\t 0.129\t -0.154\t -0.106\t \n",
      "0.297\t -0.178\t -0.227\t 0.087\t -0.037\t 0.139\t 0.123\t -0.141\t -0.082\t \n",
      "-0.176\t -0.244\t -0.161\t -0.195\t -0.153\t -0.160\t -0.221\t -0.208\t \n",
      "-0.226\t -0.223\t -0.232\t -0.219\t -0.214\t -0.239\t -0.235\t \n",
      "0.656\t 0.130\t 0.372\t 0.339\t -0.027\t 0.056\t \n",
      "0.048\t 0.127\t 0.111\t -0.088\t -0.032\t \n",
      "0.566\t 0.440\t -0.041\t 0.049\t \n",
      "0.756\t -0.044\t 0.042\t \n",
      "-0.082\t -0.104\t \n",
      "-0.016\t \n"
     ]
    }
   ],
   "source": [
    "for i in range(15):\n",
    "    for j in range(i,15):\n",
    "        print(\"%.3f\"%corr[i][j],end= \"\\t \")\n",
    "        if i!=j:\n",
    "            corr_dic[\"f%d f%d\"%(i,j)] =corr[i][j]\n",
    "    print()"
   ]
  },
  {
   "cell_type": "code",
   "execution_count": 0,
   "metadata": {
    "colab": {
     "base_uri": "https://localhost:8080/",
     "height": 553
    },
    "colab_type": "code",
    "id": "zGWNe-thKrAO",
    "outputId": "135a342c-83b0-4878-de6e-bdd6c8842a1a"
   },
   "outputs": [
    {
     "data": {
      "text/plain": [
       "[('f11 f12', array([0.43984617])),\n",
       " ('f9 f11', array([0.37178676])),\n",
       " ('f9 f12', array([0.3391035])),\n",
       " ('f1 f11', array([0.26472287])),\n",
       " ('f4 f11', array([0.25256231])),\n",
       " ('f2 f9', array([0.25233554])),\n",
       " ('f1 f12', array([0.24615606])),\n",
       " ('f1 f9', array([0.2450222])),\n",
       " ('f2 f11', array([0.23337188])),\n",
       " ('f4 f12', array([0.23050891])),\n",
       " ('f2 f3', array([0.22243022])),\n",
       " ('f4 f9', array([0.22024756])),\n",
       " ('f3 f9', array([0.18849973])),\n",
       " ('f2 f12', array([0.17659429])),\n",
       " ('f3 f11', array([0.16916756])),\n",
       " ('f1 f2', array([0.14592362])),\n",
       " ('f1 f4', array([0.14221025])),\n",
       " ('f6 f11', array([0.13883705])),\n",
       " ('f2 f4', array([0.1338481])),\n",
       " ('f9 f10', array([0.12996466])),\n",
       " ('f5 f12', array([0.12871743])),\n",
       " ('f10 f11', array([0.12678988])),\n",
       " ('f5 f11', array([0.12378517])),\n",
       " ('f6 f12', array([0.12299148])),\n",
       " ('f3 f12', array([0.12177259])),\n",
       " ('f10 f12', array([0.11057581])),\n",
       " ('f1 f3', array([0.09178222])),\n",
       " ('f6 f9', array([0.08738855])),\n",
       " ('f2 f10', array([0.08548935])),\n",
       " ('f3 f4', array([0.08344842]))]"
      ]
     },
     "execution_count": 81,
     "metadata": {
      "tags": []
     },
     "output_type": "execute_result"
    }
   ],
   "source": [
    "sorted(corr_dic.items(), key=lambda x: x[1],reverse = True)[:30]\n",
    "# print top 30 candidates"
   ]
  },
  {
   "cell_type": "markdown",
   "metadata": {
    "colab_type": "text",
    "id": "JGiTc4lNKrAh"
   },
   "source": [
    "## Check k2 score of individual edges"
   ]
  },
  {
   "cell_type": "code",
   "execution_count": 0,
   "metadata": {
    "colab": {},
    "colab_type": "code",
    "id": "XZBP3P7jKrAm"
   },
   "outputs": [],
   "source": [
    "data.columns = [\"f%d\"%i for i in range(1,16)]"
   ]
  },
  {
   "cell_type": "code",
   "execution_count": 0,
   "metadata": {
    "colab": {
     "base_uri": "https://localhost:8080/",
     "height": 238
    },
    "colab_type": "code",
    "id": "FIRXoTY1KrAz",
    "outputId": "fdb8e13a-12ed-4ddb-8839-b5bc031332c2"
   },
   "outputs": [
    {
     "data": {
      "text/html": [
       "<div>\n",
       "<style scoped>\n",
       "    .dataframe tbody tr th:only-of-type {\n",
       "        vertical-align: middle;\n",
       "    }\n",
       "\n",
       "    .dataframe tbody tr th {\n",
       "        vertical-align: top;\n",
       "    }\n",
       "\n",
       "    .dataframe thead th {\n",
       "        text-align: right;\n",
       "    }\n",
       "</style>\n",
       "<table border=\"1\" class=\"dataframe\">\n",
       "  <thead>\n",
       "    <tr style=\"text-align: right;\">\n",
       "      <th></th>\n",
       "      <th>f1</th>\n",
       "      <th>f2</th>\n",
       "      <th>f3</th>\n",
       "      <th>f4</th>\n",
       "      <th>f5</th>\n",
       "      <th>f6</th>\n",
       "      <th>f7</th>\n",
       "      <th>f8</th>\n",
       "      <th>f9</th>\n",
       "      <th>f10</th>\n",
       "      <th>f11</th>\n",
       "      <th>f12</th>\n",
       "      <th>f13</th>\n",
       "      <th>f14</th>\n",
       "      <th>f15</th>\n",
       "    </tr>\n",
       "    <tr>\n",
       "      <th>imagename</th>\n",
       "      <th></th>\n",
       "      <th></th>\n",
       "      <th></th>\n",
       "      <th></th>\n",
       "      <th></th>\n",
       "      <th></th>\n",
       "      <th></th>\n",
       "      <th></th>\n",
       "      <th></th>\n",
       "      <th></th>\n",
       "      <th></th>\n",
       "      <th></th>\n",
       "      <th></th>\n",
       "      <th></th>\n",
       "      <th></th>\n",
       "    </tr>\n",
       "  </thead>\n",
       "  <tbody>\n",
       "    <tr>\n",
       "      <th>0968c_num1.png</th>\n",
       "      <td>1</td>\n",
       "      <td>1</td>\n",
       "      <td>1</td>\n",
       "      <td>0</td>\n",
       "      <td>1</td>\n",
       "      <td>1</td>\n",
       "      <td>2</td>\n",
       "      <td>1</td>\n",
       "      <td>0</td>\n",
       "      <td>1</td>\n",
       "      <td>1</td>\n",
       "      <td>2</td>\n",
       "      <td>1</td>\n",
       "      <td>1</td>\n",
       "      <td>0</td>\n",
       "    </tr>\n",
       "    <tr>\n",
       "      <th>0809c_num2.png</th>\n",
       "      <td>1</td>\n",
       "      <td>1</td>\n",
       "      <td>1</td>\n",
       "      <td>1</td>\n",
       "      <td>1</td>\n",
       "      <td>1</td>\n",
       "      <td>2</td>\n",
       "      <td>0</td>\n",
       "      <td>0</td>\n",
       "      <td>1</td>\n",
       "      <td>1</td>\n",
       "      <td>2</td>\n",
       "      <td>0</td>\n",
       "      <td>1</td>\n",
       "      <td>1</td>\n",
       "    </tr>\n",
       "    <tr>\n",
       "      <th>0237b_num6.png</th>\n",
       "      <td>1</td>\n",
       "      <td>1</td>\n",
       "      <td>1</td>\n",
       "      <td>1</td>\n",
       "      <td>1</td>\n",
       "      <td>1</td>\n",
       "      <td>1</td>\n",
       "      <td>1</td>\n",
       "      <td>0</td>\n",
       "      <td>1</td>\n",
       "      <td>1</td>\n",
       "      <td>1</td>\n",
       "      <td>1</td>\n",
       "      <td>1</td>\n",
       "      <td>1</td>\n",
       "    </tr>\n",
       "    <tr>\n",
       "      <th>0069b_num2.png</th>\n",
       "      <td>1</td>\n",
       "      <td>1</td>\n",
       "      <td>1</td>\n",
       "      <td>0</td>\n",
       "      <td>1</td>\n",
       "      <td>1</td>\n",
       "      <td>0</td>\n",
       "      <td>0</td>\n",
       "      <td>0</td>\n",
       "      <td>0</td>\n",
       "      <td>0</td>\n",
       "      <td>0</td>\n",
       "      <td>0</td>\n",
       "      <td>0</td>\n",
       "      <td>0</td>\n",
       "    </tr>\n",
       "    <tr>\n",
       "      <th>0966c_num4.png</th>\n",
       "      <td>1</td>\n",
       "      <td>1</td>\n",
       "      <td>1</td>\n",
       "      <td>1</td>\n",
       "      <td>1</td>\n",
       "      <td>1</td>\n",
       "      <td>1</td>\n",
       "      <td>0</td>\n",
       "      <td>0</td>\n",
       "      <td>1</td>\n",
       "      <td>1</td>\n",
       "      <td>1</td>\n",
       "      <td>1</td>\n",
       "      <td>1</td>\n",
       "      <td>1</td>\n",
       "    </tr>\n",
       "  </tbody>\n",
       "</table>\n",
       "</div>"
      ],
      "text/plain": [
       "                f1  f2  f3  f4  f5  f6  f7  f8  f9  f10  f11  f12  f13  f14  \\\n",
       "imagename                                                                     \n",
       "0968c_num1.png   1   1   1   0   1   1   2   1   0    1    1    2    1    1   \n",
       "0809c_num2.png   1   1   1   1   1   1   2   0   0    1    1    2    0    1   \n",
       "0237b_num6.png   1   1   1   1   1   1   1   1   0    1    1    1    1    1   \n",
       "0069b_num2.png   1   1   1   0   1   1   0   0   0    0    0    0    0    0   \n",
       "0966c_num4.png   1   1   1   1   1   1   1   0   0    1    1    1    1    1   \n",
       "\n",
       "                f15  \n",
       "imagename            \n",
       "0968c_num1.png    0  \n",
       "0809c_num2.png    1  \n",
       "0237b_num6.png    1  \n",
       "0069b_num2.png    0  \n",
       "0966c_num4.png    1  "
      ]
     },
     "execution_count": 83,
     "metadata": {
      "tags": []
     },
     "output_type": "execute_result"
    }
   ],
   "source": [
    "data.head()"
   ]
  },
  {
   "cell_type": "code",
   "execution_count": 0,
   "metadata": {
    "colab": {},
    "colab_type": "code",
    "id": "8KvqvFMbKrBE"
   },
   "outputs": [],
   "source": [
    "k2 = defaultdict(lambda:None )"
   ]
  },
  {
   "cell_type": "code",
   "execution_count": 0,
   "metadata": {
    "colab": {},
    "colab_type": "code",
    "id": "TOJUT3CnKrBR"
   },
   "outputs": [],
   "source": [
    "k = K2Score(data)\n",
    "\n",
    "for i in range(15):\n",
    "    for j in range(i,15):\n",
    "        if i!=j and i!=4 and j!=4:\n",
    "            model = BayesianModel()\n",
    "            model.add_edge(\"f%d\"%(i+1),\"f%d\"%(j+1))\n",
    "            k2[\"f%d ,f%d\"%(i+1,j+1)]=k.score(model)\n",
    "        "
   ]
  },
  {
   "cell_type": "code",
   "execution_count": 0,
   "metadata": {
    "colab": {
     "base_uri": "https://localhost:8080/",
     "height": 553
    },
    "colab_type": "code",
    "id": "EsgLIv2oKrBe",
    "outputId": "1c517380-0aa7-4804-8ffe-a43ebbd060fd"
   },
   "outputs": [
    {
     "data": {
      "text/plain": [
       "[('f8 ,f9', -9524.033680293294),\n",
       " ('f9 ,f11', -10285.122960875375),\n",
       " ('f6 ,f9', -11452.340941317532),\n",
       " ('f9 ,f15', -12086.035915314536),\n",
       " ('f1 ,f9', -12098.069402164354),\n",
       " ('f9 ,f14', -12248.037601392767),\n",
       " ('f8 ,f11', -13870.228943654525),\n",
       " ('f11 ,f15', -14851.989244428369),\n",
       " ('f6 ,f8', -15204.614812135576),\n",
       " ('f11 ,f14', -15234.772889889231),\n",
       " ('f6 ,f11', -15630.797470868172),\n",
       " ('f8 ,f15', -15665.707773198032),\n",
       " ('f1 ,f8', -15725.475170057267),\n",
       " ('f9 ,f12', -15752.811190782915),\n",
       " ('f8 ,f14', -15820.858078680849),\n",
       " ('f1 ,f11', -16459.475622050362),\n",
       " ('f4 ,f9', -16578.909919642945),\n",
       " ('f3 ,f9', -16718.845178027514),\n",
       " ('f14 ,f15', -16744.13799097287),\n",
       " ('f2 ,f9', -16879.229972134784),\n",
       " ('f6 ,f15', -17622.73650249384),\n",
       " ('f6 ,f14', -17720.96756774361),\n",
       " ('f1 ,f6', -17765.47675687581),\n",
       " ('f9 ,f10', -17963.165791796662),\n",
       " ('f1 ,f15', -18275.541867408414),\n",
       " ('f7 ,f9', -18343.3103816863),\n",
       " ('f1 ,f14', -18435.44540413588),\n",
       " ('f8 ,f12', -19356.736126379303),\n",
       " ('f11 ,f12', -19888.266571680062),\n",
       " ('f4 ,f8', -20257.118729751477)]"
      ]
     },
     "execution_count": 86,
     "metadata": {
      "tags": []
     },
     "output_type": "execute_result"
    }
   ],
   "source": [
    "sorted(k2.items(), key=lambda x: x[1],reverse = True)[:30]\n",
    "# print top 30 candidates"
   ]
  },
  {
   "cell_type": "code",
   "execution_count": 0,
   "metadata": {
    "colab": {
     "base_uri": "https://localhost:8080/",
     "height": 35
    },
    "colab_type": "code",
    "id": "5wqyMuRoKrB1",
    "outputId": "a8bfd4f3-5e69-497b-b4ce-889d118acbac"
   },
   "outputs": [
    {
     "data": {
      "text/plain": [
       "0.984966838614591"
      ]
     },
     "execution_count": 87,
     "metadata": {
      "tags": []
     },
     "output_type": "execute_result"
    }
   ],
   "source": [
    "sum(list(data['f5']))/len(data[\"f5\"]) # Probability of lowercase"
   ]
  },
  {
   "cell_type": "markdown",
   "metadata": {
    "colab_type": "text",
    "id": "W25nlDkHKrCI"
   },
   "source": [
    "## Generate intiutive models"
   ]
  },
  {
   "cell_type": "code",
   "execution_count": 0,
   "metadata": {
    "colab": {},
    "colab_type": "code",
    "id": "7o04qBJAKrCL"
   },
   "outputs": [],
   "source": [
    "img1 = [('f8','f9'),('f9','f11'),('f9','f14'),('f11','f14'),('f14','f15'),('f15','f6'),('f6','f12')]\n",
    "img2 = [(\"g\"+x[1:],\"g\"+y[1:]) for x,y in img1]\n",
    "op = [('f12','op'),('g12','op')]"
   ]
  },
  {
   "cell_type": "code",
   "execution_count": 0,
   "metadata": {
    "colab": {},
    "colab_type": "code",
    "id": "EWpU9CZuKrCT"
   },
   "outputs": [],
   "source": [
    "edges = img1 + img2 + op"
   ]
  },
  {
   "cell_type": "code",
   "execution_count": 0,
   "metadata": {
    "colab": {
     "base_uri": "https://localhost:8080/",
     "height": 303
    },
    "colab_type": "code",
    "id": "udeRHU3jKrCf",
    "outputId": "5b786655-90f2-4172-ee8a-62dec1d17788"
   },
   "outputs": [
    {
     "data": {
      "text/plain": [
       "[('f8', 'f9'),\n",
       " ('f9', 'f11'),\n",
       " ('f9', 'f14'),\n",
       " ('f11', 'f14'),\n",
       " ('f14', 'f15'),\n",
       " ('f15', 'f6'),\n",
       " ('f6', 'f12'),\n",
       " ('g8', 'g9'),\n",
       " ('g9', 'g11'),\n",
       " ('g9', 'g14'),\n",
       " ('g11', 'g14'),\n",
       " ('g14', 'g15'),\n",
       " ('g15', 'g6'),\n",
       " ('g6', 'g12'),\n",
       " ('f12', 'op'),\n",
       " ('g12', 'op')]"
      ]
     },
     "execution_count": 90,
     "metadata": {
      "tags": []
     },
     "output_type": "execute_result"
    }
   ],
   "source": [
    "edges"
   ]
  },
  {
   "cell_type": "code",
   "execution_count": 0,
   "metadata": {
    "colab": {},
    "colab_type": "code",
    "id": "mpy-tqBQKrCm"
   },
   "outputs": [],
   "source": [
    "edges2 = [(y,x) for x,y in img1]+ [(y,x) for x,y in img2] +[('f9','op'),('g9','op')]\n",
    "edges3 = [(\"f%d\"%i,\"f%d\"%(i+1)) for i in range(1,15) ]+ [(\"g%d\"%i,\"g%d\"%(i+1)) for i in range(1,15) ]+[('f15','op'),('g15','op')]\n",
    "edges4 = [(\"f%d\"%(i),\"f%d\"%(i-1)) for i in range(15,1,-1)]+ [(\"g%d\"%(i),\"g%d\"%(i-1)) for i in range(15,1,-1) ]+[('f15','op'),('g15','op')]\n",
    "edges5 = [('f7','f8'),('f12','f14'),('g7','g8'),('g12','g14'),('f8','op'),('f12','op'),('g8','op'),('g12','op')]"
   ]
  },
  {
   "cell_type": "code",
   "execution_count": 0,
   "metadata": {
    "colab": {},
    "colab_type": "code",
    "id": "5Oj-kqGRKrCt"
   },
   "outputs": [],
   "source": [
    "def accuracy(pred,obs):\n",
    "    total = (pred == obs).astype('int64')\n",
    "    total = total.values.tolist()\n",
    "    return sum(total)/len(pred)\n"
   ]
  },
  {
   "cell_type": "markdown",
   "metadata": {
    "colab_type": "text",
    "id": "cs8oiHCqKrC4"
   },
   "source": [
    "## Inference using 30 features"
   ]
  },
  {
   "cell_type": "code",
   "execution_count": 0,
   "metadata": {
    "colab": {},
    "colab_type": "code",
    "id": "OWg1S6T6KrC7"
   },
   "outputs": [],
   "source": [
    "def train_30(train,val,edges):\n",
    "    model = BayesianModel(edges)\n",
    "    train_time = time.time()\n",
    "    model.fit(train)\n",
    "    train_time = time.time()-train_time\n",
    "    predict_data = val.copy()\n",
    "    predict_time = time.time()\n",
    "    predict_data = predict_data[model.nodes()]\n",
    "    predict_data.drop('op', axis=1, inplace=True)\n",
    "    y_pred = model.predict(predict_data)\n",
    "    predict_time = time.time()-predict_time\n",
    "    y_pred.columns = ['op']\n",
    "    acc = accuracy(y_pred['op'],val['op'])\n",
    "    return model,acc,train_time,predict_time\n",
    "\n",
    "def train_all_30(edges):\n",
    "    seen_model = train_30(seen_train,seen_val,edges)\n",
    "    unseen_model = train_30(unseen_train,unseen_val,edges)\n",
    "    shuffled_model = train_30(shuffled_train,shuffled_val,edges)\n",
    "    return seen_model,unseen_model,shuffled_model"
   ]
  },
  {
   "cell_type": "code",
   "execution_count": 0,
   "metadata": {
    "colab": {},
    "colab_type": "code",
    "id": "05IQh_mJKrDI"
   },
   "outputs": [],
   "source": [
    "seen_30, unseen_30, shuffled_30 = train_all_30(edges)"
   ]
  },
  {
   "cell_type": "code",
   "execution_count": 0,
   "metadata": {
    "colab": {
     "base_uri": "https://localhost:8080/",
     "height": 249
    },
    "colab_type": "code",
    "id": "hmfzboXrKrDR",
    "outputId": "aca899c2-3f8e-4e91-a3f1-4aff6c7c2ebc"
   },
   "outputs": [
    {
     "name": "stdout",
     "output_type": "stream",
     "text": [
      "Inferencing using features of two image at once\n",
      "\n",
      "Accuracy on seen data: 0.860179\n",
      "Runtime on seen data: 0.576436 s\n",
      "Infer time on seen data: 14.844556 s\n",
      "\n",
      "Accuracy on unseen data: 0.716521\n",
      "Runtime on unseen data: 0.618504 s\n",
      "Infer time on unseen data: 118.670348 s\n",
      "\n",
      "Accuracy on shuffled data: 0.576718\n",
      "Runtime on shuffled data: 0.527670\n",
      "Infer time on shuffled data: 86.107631\n"
     ]
    }
   ],
   "source": [
    "print(\"Inferencing using features of two image at once\\n\")\n",
    "print(\"Accuracy on seen data: %f\"%seen_30[1])\n",
    "print(\"Runtime on seen data: %f s\"%seen_30[2])\n",
    "print(\"Infer time on seen data: %f s\"%seen_30[3])\n",
    "print()\n",
    "print(\"Accuracy on unseen data: %f\"%unseen_30[1])\n",
    "print(\"Runtime on unseen data: %f s\"%unseen_30[2])\n",
    "print(\"Infer time on unseen data: %f s\"%unseen_30[3])\n",
    "print()\n",
    "print(\"Accuracy on shuffled data: %f\"%shuffled_30[1])\n",
    "print(\"Runtime on shuffled data: %f\"%shuffled_30[2])\n",
    "print(\"Infer time on shuffled data: %f\"%shuffled_30[3])"
   ]
  },
  {
   "cell_type": "markdown",
   "metadata": {
    "colab_type": "text",
    "id": "QCYsk4pLKrDX"
   },
   "source": [
    "## Inference using 15 features at a time"
   ]
  },
  {
   "cell_type": "code",
   "execution_count": 0,
   "metadata": {
    "colab": {},
    "colab_type": "code",
    "id": "absHmXkRKrDa"
   },
   "outputs": [],
   "source": [
    "def train(train,val,edges):\n",
    "    model = BayesianModel(edges)\n",
    "    train_time = time.time()\n",
    "    model.fit(train)\n",
    "    train_time = time.time()-train_time\n",
    "    predict_data = val.copy()\n",
    "    predict_time = time.time()\n",
    "    predict_data = predict_data[model.nodes()]\n",
    "    predict_data.drop('op', axis=1, inplace=True)\n",
    "    l = []\n",
    "    for i,j in predict_data.iterrows():\n",
    "        l.append(predict(model,j))\n",
    "    predict_time = time.time()-predict_time\n",
    "    y_pred = pd.DataFrame(l)\n",
    "    y_pred.columns = ['op']\n",
    "    acc = accuracy(y_pred['op'],val['op'])\n",
    "    return model,acc,train_time,predict_time"
   ]
  },
  {
   "cell_type": "code",
   "execution_count": 0,
   "metadata": {
    "colab": {},
    "colab_type": "code",
    "id": "qitKLY7gKrDg"
   },
   "outputs": [],
   "source": [
    "def train_all(edges):\n",
    "    seen_model = train(seen_train,seen_val,edges)\n",
    "    unseen_model = train(unseen_train,unseen_val,edges)\n",
    "    shuffled_model = train(shuffled_train,shuffled_val,edges)\n",
    "    return seen_model,unseen_model,shuffled_model"
   ]
  },
  {
   "cell_type": "code",
   "execution_count": 0,
   "metadata": {
    "colab": {},
    "colab_type": "code",
    "id": "HEhjwhCfKrDl"
   },
   "outputs": [],
   "source": [
    "## Inference using half on the edges\n",
    "\n",
    "def predict(model,features):\n",
    "    inference = VariableElimination(model)\n",
    "    left_nodes = [i for i in model.nodes() if i[0]=='f']\n",
    "    right_nodes = [i for i in model.nodes() if i[0]=='g']\n",
    "    left_img = {}\n",
    "    for n in left_nodes:\n",
    "        left_img[n]=features[n]\n",
    "    right_img = {}\n",
    "    for n in right_nodes:\n",
    "        right_img[n]=features[n]\n",
    "    ql0 = inference.query(left_nodes,evidence=right_img.update({'op':0}))\n",
    "    ql1 = inference.query(left_nodes,evidence=right_img.update({'op':1}))\n",
    "    qr0 = inference.query(right_nodes,evidence=left_img.update({'op':0}))    \n",
    "    qr1 = inference.query(right_nodes,evidence=left_img.update({'op':1}))    \n",
    "    pl0 = pl1= pr0 = pr1 = 1\n",
    "    for n in left_nodes:\n",
    "        pl0 *= ((ql0[n]).values)[left_img[n]]\n",
    "        pl1 *= ((ql1[n]).values)[left_img[n]]\n",
    "    for n in right_nodes:\n",
    "        pr0 *= ((qr0[n]).values)[right_img[n]]\n",
    "        pr1 *= ((qr1[n]).values)[right_img[n]]\n",
    "    p0 = (pl0*pr0)**0.5\n",
    "    p1 = (pl1*pr1)**0.5\n",
    "    \n",
    "    return int(p0<p1)"
   ]
  },
  {
   "cell_type": "code",
   "execution_count": 0,
   "metadata": {
    "colab": {},
    "colab_type": "code",
    "id": "VhaWm0csKrDr"
   },
   "outputs": [],
   "source": [
    "seen_model, unseen_model, shuffled_model = train_all(edges)"
   ]
  },
  {
   "cell_type": "code",
   "execution_count": 0,
   "metadata": {
    "colab": {
     "base_uri": "https://localhost:8080/",
     "height": 249
    },
    "colab_type": "code",
    "id": "Mu_xcVcdKrDx",
    "outputId": "77263645-c675-4a69-9d6b-c307bbe4340f"
   },
   "outputs": [
    {
     "name": "stdout",
     "output_type": "stream",
     "text": [
      "Inferencing using features of one image at once\n",
      "\n",
      "Accuracy on seen data: 0.502237\n",
      "Runtime on seen data: 0.561625 s\n",
      "Infer time on seen data: 65.061688 s\n",
      "\n",
      "Accuracy on unseen data: 0.507132\n",
      "Runtime on unseen data: 0.636577 s\n",
      "Infer time on unseen data: 523.308913 s\n",
      "\n",
      "Accuracy on shuffled data: 0.499046\n",
      "Runtime on shuffled data: 0.538977\n",
      "Infer time on shuffled data: 377.854292\n"
     ]
    }
   ],
   "source": [
    "print(\"Inferencing using features of one image at once\\n\")\n",
    "print(\"Accuracy on seen data: %f\"%seen_model[1])\n",
    "print(\"Runtime on seen data: %f s\"%seen_model[2])\n",
    "print(\"Infer time on seen data: %f s\"%seen_model[3])\n",
    "print()\n",
    "print(\"Accuracy on unseen data: %f\"%unseen_model[1])\n",
    "print(\"Runtime on unseen data: %f s\"%unseen_model[2])\n",
    "print(\"Infer time on unseen data: %f s\"%unseen_model[3])\n",
    "print()\n",
    "print(\"Accuracy on shuffled data: %f\"%shuffled_model[1])\n",
    "print(\"Runtime on shuffled data: %f\"%shuffled_model[2])\n",
    "print(\"Infer time on shuffled data: %f\"%shuffled_model[3])"
   ]
  },
  {
   "cell_type": "markdown",
   "metadata": {
    "colab_type": "text",
    "id": "U2gzq_7KKrD-"
   },
   "source": [
    "## Model for Task 4 using similarity node"
   ]
  },
  {
   "cell_type": "code",
   "execution_count": 0,
   "metadata": {
    "colab": {},
    "colab_type": "code",
    "id": "a6HUNxDdKrEB"
   },
   "outputs": [],
   "source": [
    "import networkx as nx\n",
    "import matplotlib.pyplot as plt"
   ]
  },
  {
   "cell_type": "code",
   "execution_count": 0,
   "metadata": {
    "colab": {
     "base_uri": "https://localhost:8080/",
     "height": 226
    },
    "colab_type": "code",
    "id": "efYjopjYKrEK",
    "outputId": "4b5a42d3-71cc-4de4-d67f-06e82f82cab8"
   },
   "outputs": [
    {
     "data": {
      "text/html": [
       "<div>\n",
       "<style scoped>\n",
       "    .dataframe tbody tr th:only-of-type {\n",
       "        vertical-align: middle;\n",
       "    }\n",
       "\n",
       "    .dataframe tbody tr th {\n",
       "        vertical-align: top;\n",
       "    }\n",
       "\n",
       "    .dataframe thead th {\n",
       "        text-align: right;\n",
       "    }\n",
       "</style>\n",
       "<table border=\"1\" class=\"dataframe\">\n",
       "  <thead>\n",
       "    <tr style=\"text-align: right;\">\n",
       "      <th></th>\n",
       "      <th>imagename</th>\n",
       "      <th>pen_pressure</th>\n",
       "      <th>letter_spacing</th>\n",
       "      <th>size</th>\n",
       "      <th>dimension</th>\n",
       "      <th>is_lowercase</th>\n",
       "      <th>is_continuous</th>\n",
       "      <th>slantness</th>\n",
       "      <th>tilt</th>\n",
       "      <th>entry_stroke_a</th>\n",
       "      <th>staff_of_a</th>\n",
       "      <th>formation_n</th>\n",
       "      <th>staff_of_d</th>\n",
       "      <th>exit_stroke_d</th>\n",
       "      <th>word_formation</th>\n",
       "      <th>constancy</th>\n",
       "    </tr>\n",
       "  </thead>\n",
       "  <tbody>\n",
       "    <tr>\n",
       "      <th>0</th>\n",
       "      <td>0968c_num1.png</td>\n",
       "      <td>2</td>\n",
       "      <td>2</td>\n",
       "      <td>2</td>\n",
       "      <td>1</td>\n",
       "      <td>2</td>\n",
       "      <td>2</td>\n",
       "      <td>3</td>\n",
       "      <td>2</td>\n",
       "      <td>1</td>\n",
       "      <td>2</td>\n",
       "      <td>2</td>\n",
       "      <td>3</td>\n",
       "      <td>2</td>\n",
       "      <td>2</td>\n",
       "      <td>1</td>\n",
       "    </tr>\n",
       "    <tr>\n",
       "      <th>1</th>\n",
       "      <td>0809c_num2.png</td>\n",
       "      <td>2</td>\n",
       "      <td>2</td>\n",
       "      <td>2</td>\n",
       "      <td>2</td>\n",
       "      <td>2</td>\n",
       "      <td>2</td>\n",
       "      <td>3</td>\n",
       "      <td>1</td>\n",
       "      <td>1</td>\n",
       "      <td>2</td>\n",
       "      <td>2</td>\n",
       "      <td>3</td>\n",
       "      <td>1</td>\n",
       "      <td>2</td>\n",
       "      <td>2</td>\n",
       "    </tr>\n",
       "    <tr>\n",
       "      <th>2</th>\n",
       "      <td>0237b_num6.png</td>\n",
       "      <td>2</td>\n",
       "      <td>2</td>\n",
       "      <td>2</td>\n",
       "      <td>2</td>\n",
       "      <td>2</td>\n",
       "      <td>2</td>\n",
       "      <td>2</td>\n",
       "      <td>2</td>\n",
       "      <td>1</td>\n",
       "      <td>2</td>\n",
       "      <td>2</td>\n",
       "      <td>2</td>\n",
       "      <td>2</td>\n",
       "      <td>2</td>\n",
       "      <td>2</td>\n",
       "    </tr>\n",
       "    <tr>\n",
       "      <th>3</th>\n",
       "      <td>0069b_num2.png</td>\n",
       "      <td>2</td>\n",
       "      <td>2</td>\n",
       "      <td>2</td>\n",
       "      <td>1</td>\n",
       "      <td>2</td>\n",
       "      <td>2</td>\n",
       "      <td>1</td>\n",
       "      <td>1</td>\n",
       "      <td>1</td>\n",
       "      <td>1</td>\n",
       "      <td>1</td>\n",
       "      <td>1</td>\n",
       "      <td>1</td>\n",
       "      <td>1</td>\n",
       "      <td>1</td>\n",
       "    </tr>\n",
       "    <tr>\n",
       "      <th>4</th>\n",
       "      <td>0966c_num4.png</td>\n",
       "      <td>2</td>\n",
       "      <td>2</td>\n",
       "      <td>2</td>\n",
       "      <td>2</td>\n",
       "      <td>2</td>\n",
       "      <td>2</td>\n",
       "      <td>2</td>\n",
       "      <td>1</td>\n",
       "      <td>1</td>\n",
       "      <td>2</td>\n",
       "      <td>2</td>\n",
       "      <td>2</td>\n",
       "      <td>2</td>\n",
       "      <td>2</td>\n",
       "      <td>2</td>\n",
       "    </tr>\n",
       "  </tbody>\n",
       "</table>\n",
       "</div>"
      ],
      "text/plain": [
       "        imagename  pen_pressure  letter_spacing  size  dimension  \\\n",
       "0  0968c_num1.png             2               2     2          1   \n",
       "1  0809c_num2.png             2               2     2          2   \n",
       "2  0237b_num6.png             2               2     2          2   \n",
       "3  0069b_num2.png             2               2     2          1   \n",
       "4  0966c_num4.png             2               2     2          2   \n",
       "\n",
       "   is_lowercase  is_continuous  slantness  tilt  entry_stroke_a  staff_of_a  \\\n",
       "0             2              2          3     2               1           2   \n",
       "1             2              2          3     1               1           2   \n",
       "2             2              2          2     2               1           2   \n",
       "3             2              2          1     1               1           1   \n",
       "4             2              2          2     1               1           2   \n",
       "\n",
       "   formation_n  staff_of_d  exit_stroke_d  word_formation  constancy  \n",
       "0            2           3              2               2          1  \n",
       "1            2           3              1               2          2  \n",
       "2            2           2              2               2          2  \n",
       "3            1           1              1               1          1  \n",
       "4            2           2              2               2          2  "
      ]
     },
     "execution_count": 65,
     "metadata": {
      "tags": []
     },
     "output_type": "execute_result"
    }
   ],
   "source": [
    "features = pd.read_csv('../15features.csv')\n",
    "features.head(5)"
   ]
  },
  {
   "cell_type": "code",
   "execution_count": 0,
   "metadata": {
    "colab": {},
    "colab_type": "code",
    "id": "Sn-uw2g7KrES"
   },
   "outputs": [],
   "source": [
    "def datagen(datadir):\n",
    "    training_pairs = pd.read_csv(join(datadir,'dataset_seen_training_siamese.csv'))\n",
    "    validation_pairs = pd.read_csv(join(datadir,'dataset_seen_validation_siamese.csv'))\n",
    "    training_features_pairs_info = pd.merge(training_pairs,features,left_on='left',right_on='imagename')\n",
    "    training_features_pairs_info = pd.merge(training_features_pairs_info,\n",
    "                                            features,left_on='right',\n",
    "                                            right_on='imagename', \n",
    "                                            suffixes=('1', '2'))\n",
    "    training_features_pairs_info = training_features_pairs_info.drop(training_features_pairs_info.columns[[0,4,20]],\n",
    "                                                                     axis=1)\n",
    "    training_features_pairs = training_features_pairs_info.drop(training_features_pairs_info.columns[[0,1]],\n",
    "                                                           axis=1)\n",
    "    \n",
    "    validation_features_pairs_info = pd.merge(validation_pairs,features,left_on='left',right_on='imagename')\n",
    "    validation_features_pairs_info = pd.merge(validation_features_pairs_info,features,\n",
    "                                              left_on='right',\n",
    "                                              right_on='imagename', \n",
    "                                              suffixes=('1', '2'))\n",
    "    validation_features_pairs_info = validation_features_pairs_info.drop(validation_features_pairs_info.columns[[0,4,20]],\n",
    "                                                                         axis=1)\n",
    "    validation_features_pairs = validation_features_pairs_info.drop(validation_features_pairs_info.columns[[0,1]],axis=1)\n",
    "    return training_features_pairs,validation_features_pairs\n",
    "\n"
   ]
  },
  {
   "cell_type": "code",
   "execution_count": 0,
   "metadata": {
    "colab": {},
    "colab_type": "code",
    "id": "ftFVm9cNKrEs"
   },
   "outputs": [],
   "source": [
    "def train_similarity_model(datadir):\n",
    "    \n",
    "    combined_model = BayesianModel([('is_lowercase1','is_lowercase_sim'),\n",
    "                                    ('is_lowercase2','is_lowercase_sim'),\n",
    "                                    ('is_continuous1','is_continuous_sim'),\n",
    "                                    ('is_continuous2','is_continuous_sim'),              \n",
    "                                    ('dimension1','dimension_sim'),\n",
    "                                    ('dimension2','dimension_sim'),\n",
    "                                    ('letter_spacing1','letter_spacing_sim'),\n",
    "                                    ('letter_spacing2','letter_spacing_sim'),\n",
    "                                    ('size1','size_sim'),\n",
    "                                    ('size2','size_sim'),              \n",
    "                                    ('constancy1','constancy_sim'),\n",
    "                                    ('constancy2','constancy_sim'),\n",
    "                                    ('word_formation1','word_formation_sim'),\n",
    "                                    ('word_formation2','word_formation_sim'),\n",
    "                                    ('formation_n1','formation_n_sim'),\n",
    "                                    ('formation_n2','formation_n_sim'),\n",
    "                                    ('entry_stroke_a1','entry_stroke_a_sim'),\n",
    "                                    ('entry_stroke_a2', 'entry_stroke_a_sim'),\n",
    "                                    ('exit_stroke_d1','exit_stroke_d_sim'),\n",
    "                                    ('exit_stroke_d2', 'exit_stroke_d_sim'),\n",
    "                                    ('staff_of_a1','staff_of_a_sim'),\n",
    "                                    ('staff_of_a2', 'staff_of_a_sim'),\n",
    "                                    ('staff_of_d1','staff_of_d_sim'),\n",
    "                                    ('staff_of_d2', 'staff_of_d_sim'),\n",
    "                                    ('slantness1','slantness_sim'),\n",
    "                                    ('slantness2', 'slantness_sim'),\n",
    "                                    ('tilt1','tilt_sim'),\n",
    "                                    ('tilt2', 'tilt_sim'),\n",
    "                                    ('pen_pressure1','pen_pressure_sim'),\n",
    "                                    ('pen_pressure2', 'pen_pressure_sim'),\n",
    "                                    \n",
    "                                    ('is_lowercase_sim','is_continuous_sim'),\n",
    "                                    ('dimension_sim','size_sim'),\n",
    "                                    ('letter_spacing_sim','size_sim'),\n",
    "                                    ('size_sim','constancy_sim'),\n",
    "                                    ('constancy_sim','word_formation_sim'),\n",
    "                                    ('word_formation_sim','formation_n_sim'),\n",
    "                                    ('entry_stroke_a_sim','exit_stroke_d_sim'),\n",
    "                                    ('staff_of_a_sim','staff_of_d_sim'),\n",
    "                                    ('slantness_sim','tilt_sim'),\n",
    "                                    \n",
    "                                    ('is_continuous_sim','label'),\n",
    "                                    ('formation_n_sim','label'),\n",
    "                                    ('exit_stroke_d_sim','label'),\n",
    "                                    ('staff_of_d_sim','label'),\n",
    "                                    ('pen_pressure_sim','label'),\n",
    "                                    ('tilt_sim','label')\n",
    "                                   ])\n",
    "    # nx.draw(combined_model, **options)\n",
    "    \n",
    "    cpd_is_lowercase1 = TabularCPD('is_lowercase1',2,[[0.5],\n",
    "                                                    [0.5]],\n",
    "                                                    evidence=[], evidence_card=[])\n",
    "    cpd_is_lowercase2 = TabularCPD('is_lowercase2',2,[[0.5],\n",
    "                                                    [0.5]],\n",
    "                                                    evidence=[], evidence_card=[])\n",
    "    cpd_is_continuous1 = TabularCPD('is_continuous1',2,[[0.5],\n",
    "                                                    [0.5]],\n",
    "                                                    evidence=[], evidence_card=[])\n",
    "    cpd_is_continuous2 = TabularCPD('is_continuous2',2,[[0.5],\n",
    "                                                    [0.5]],\n",
    "                                                    evidence=[], evidence_card=[])\n",
    "    cpd_dimension1 = TabularCPD('dimension1',3,[[0.33],\n",
    "                                        [0.34],[0.33]],\n",
    "                                                    evidence=[], evidence_card=[])\n",
    "    cpd_dimension2 = TabularCPD('dimension2',3,[[0.33],\n",
    "                                        [0.34],[0.33]],\n",
    "                                                    evidence=[], evidence_card=[])\n",
    "    cpd_letter_spacing1 = TabularCPD('letter_spacing1',3,[[0.33],\n",
    "                                        [0.34],[0.33]],\n",
    "                                        evidence=[], evidence_card=[])\n",
    "    cpd_letter_spacing2 = TabularCPD('letter_spacing2',3,[[0.33],\n",
    "                                        [0.34],[0.33]],\n",
    "                                        evidence=[], evidence_card=[])\n",
    "    cpd_size1 = TabularCPD('size1',3,[[0.33],\n",
    "                                        [0.34],[0.33]],\n",
    "                                        evidence=[], evidence_card=[])\n",
    "    cpd_size2 = TabularCPD('size2',3,[[0.33],\n",
    "                                        [0.34],[0.33]],\n",
    "                                        evidence=[], evidence_card=[])\n",
    "    cpd_constancy1 = TabularCPD('constancy1',2,[[0.5],\n",
    "                                        [0.5]],\n",
    "                                        evidence=[], evidence_card=[])\n",
    "    cpd_constancy2 = TabularCPD('constancy2',2,[[0.5],\n",
    "                                        [0.5]],\n",
    "                                        evidence=[], evidence_card=[])\n",
    "    cpd_word_formation1 = TabularCPD('word_formation1',2,[[0.5],\n",
    "                                        [0.5]],\n",
    "                                        evidence=[], evidence_card=[])\n",
    "    cpd_word_formation2 = TabularCPD('word_formation2',2,[[0.5],\n",
    "                                        [0.5]],\n",
    "                                        evidence=[], evidence_card=[])\n",
    "    cpd_formation_n1 = TabularCPD('formation_n1',2,[[0.5],\n",
    "                                        [0.5]],\n",
    "                                        evidence=[], evidence_card=[])\n",
    "    cpd_formation_n2 = TabularCPD('formation_n2',2,[[0.5],\n",
    "                                        [0.5]],\n",
    "                                        evidence=[], evidence_card=[])\n",
    "    cpd_entry_stroke_a1 = TabularCPD('entry_stroke_a1',2,[[0.5],\n",
    "                                        [0.5]],\n",
    "                                        evidence=[], evidence_card=[])\n",
    "    cpd_entry_stroke_a2 = TabularCPD('entry_stroke_a2',2,[[0.5],\n",
    "                                        [0.5]],\n",
    "                                        evidence=[], evidence_card=[])\n",
    "    cpd_exit_stroke_d1 = TabularCPD('exit_stroke_d1',4,[[0.3],\n",
    "                                                    [0.5],[0.1],\n",
    "                                                    [0.1]],\n",
    "                                        evidence=[], evidence_card=[])\n",
    "    cpd_exit_stroke_d2 = TabularCPD('exit_stroke_d2',4,[[0.3],\n",
    "                                                    [0.5],[0.1],\n",
    "                                                    [0.1]],\n",
    "                                        evidence=[], evidence_card=[])\n",
    "    cpd_staff_of_a1 = TabularCPD('staff_of_a1',4,[[0.2],[0.6],\n",
    "                                            [0.05],[0.15]],\n",
    "                                        evidence=[], evidence_card=[])\n",
    "    cpd_staff_of_a2 = TabularCPD('staff_of_a2',4,[[0.2],[0.6],\n",
    "                                            [0.05],[0.15]],\n",
    "                                        evidence=[], evidence_card=[])\n",
    "    cpd_staff_of_d1 = TabularCPD('staff_of_d1',2,[[0.1],\n",
    "                                        [0.9]],\n",
    "                                        evidence=[], evidence_card=[])\n",
    "    cpd_staff_of_d2 = TabularCPD('staff_of_d2',2,[[0.1],\n",
    "                                        [0.9]],\n",
    "                                        evidence=[], evidence_card=[])\n",
    "    cpd_slantness1 = TabularCPD('slantness1',4,[[0.55],[0.30],\n",
    "                                            [0.10],[0.05]],\n",
    "                                        evidence=[], evidence_card=[])\n",
    "    cpd_slantness2 = TabularCPD('slantness2',4,[[0.55],[0.30],\n",
    "                                            [0.10],[0.05]],\n",
    "                                        evidence=[], evidence_card=[])\n",
    "    cpd_tilt1 = TabularCPD('tilt1',2,[[0.8],[0.2]],\n",
    "                                        evidence=[], evidence_card=[])\n",
    "    cpd_tilt2 = TabularCPD('tilt2',2,[[0.8],[0.2]],\n",
    "                                        evidence=[], evidence_card=[])\n",
    "    cpd_pen_pressure1 = TabularCPD('pen_pressure1',2,[[0.4],[0.6]],\n",
    "                                        evidence=[], evidence_card=[])\n",
    "    cpd_pen_pressure2 = TabularCPD('pen_pressure2',2,[[0.4],[0.6]],\n",
    "                                        evidence=[], evidence_card=[])\n",
    "    \n",
    "    \n",
    "    \n",
    "    cpd_is_lowercase_sim = TabularCPD('is_lowercase_sim',2,[[0.1,0.9,0.9,0.1],\n",
    "                                                                [0.9,0.1,0.1,0.9]],\n",
    "                                                                evidence=['is_lowercase1','is_lowercase2'], \n",
    "                                                                evidence_card=[2,2])\n",
    "    cpd_is_continuous_sim = TabularCPD('is_continuous_sim',2,[[0.9,0.1,0.9,0.6,0.9,0.6,0.9,0.1],\n",
    "                                                              [0.1,0.9,0.1,0.4,0.1,0.4,0.1,0.9]],\n",
    "                                                                evidence=['is_continuous1','is_continuous2','is_lowercase_sim'], \n",
    "                                                                evidence_card=[2,2,2])\n",
    "    cpd_dimension_sim = TabularCPD('dimension_sim',2,[[0.1,0.8,0.9,0.8,0.1,0.8,0.9,0.8,0.1],\n",
    "                                                      [0.9,0.2,0.1,0.2,0.9,0.2,0.1,0.2,0.9]],\n",
    "                                                    evidence=['dimension1','dimension2'], evidence_card=[3,3])\n",
    "    cpd_letter_spacing_sim = TabularCPD('letter_spacing_sim',2,[[0.1,0.8,0.9,0.8,0.1,0.8,0.9,0.8,0.1],\n",
    "                                                    [0.9,0.2,0.1,0.2,0.9,0.2,0.1,0.2,0.9]],\n",
    "                                                    evidence=['letter_spacing1','letter_spacing2'], evidence_card=[3,3])\n",
    "    cpd_size_sim = TabularCPD('size_sim',2,[[0.6,0.3,0.3,0.1,0.8,0.7,0.7,0.3,0.9,0.8,0.7,0.4,0.7,0.6,0.6,0.3,0.6,0.3,0.3,0.1,0.8,0.4,0.4,0.85,0.9,0.8,0.8,0.3,0.8,0.4,0.4,0.85,0.6,0.3,0.3,0.1],\n",
    "                                            [0.4,0.7,0.7,0.9,0.2,0.3,0.3,0.7,0.1,0.2,0.3,0.6,0.3,0.4,0.4,0.7,0.4,0.7,0.7,0.9,0.2,0.6,0.6,0.15,0.1,0.2,0.2,0.7,0.2,0.6,0.6,0.15,0.4,0.7,0.7,0.9]],\n",
    "                                            evidence=['size1','size2','dimension_sim','letter_spacing_sim'], evidence_card=[3,3,2,2])\n",
    "    cpd_constancy_sim = TabularCPD('constancy_sim',2,[[0.9,0.1,0.9,0.6,0.9,0.6,0.7,0.1],\n",
    "                                            [0.1,0.9,0.1,0.4,0.1,0.4,0.3,0.9]],\n",
    "                                            evidence=['constancy1','constancy2','size_sim'], evidence_card=[2,2,2])\n",
    "    cpd_word_formation_sim = TabularCPD('word_formation_sim',2,[[0.9,0.1,0.9,0.7,0.9,0.7,0.9,0.1],\n",
    "                                            [0.1,0.9,0.1,0.3,0.1,0.3,0.1,0.9]],\n",
    "                                            evidence=['word_formation1','word_formation2','constancy_sim'], evidence_card=[2,2,2])\n",
    "    cpd_formation_n_sim = TabularCPD('formation_n_sim',2,[[0.7,0.1,0.9,0.4,0.9,0.4,0.6,0.1],\n",
    "                                            [0.3,0.9,0.1,0.6,0.1,0.6,0.4,0.9]],\n",
    "                                            evidence=['formation_n1','formation_n2','word_formation_sim'], evidence_card=[2,2,2])\n",
    "    cpd_entry_stroke_a_sim = TabularCPD('entry_stroke_a_sim',2,[[0.1,0.9,0.9,0.1],\n",
    "                                                                [0.9,0.1,0.1,0.9]],\n",
    "                                            evidence=['entry_stroke_a1','entry_stroke_a2'], evidence_card=[2,2])\n",
    "    \n",
    "    cpd_exit_stroke_d_sim = TabularCPD('exit_stroke_d_sim',2,[[0.47, 0.53, 0.79, 0.21, 0.88, 0.12, 0.88, 0.12, 0.42, 0.58, 0.26, 0.74, 0.52, 0.48, 0.42, 0.58, 0.84, 0.16, 0.78, 0.22, 0.36, 0.64, 0.55, 0.45, 0, 1, 0, 1, 0, 1, 0, 1],\n",
    "                                                              [0.53, 0.47, 0.21, 0.79, 0.12, 0.88, 0.12, 0.88, 0.58, 0.42, 0.74, 0.26, 0.48, 0.52, 0.58, 0.42, 0.16, 0.84, 0.22, 0.78, 0.64, 0.36, 0.45, 0.55, 1, 0, 1, 0, 1, 0, 1, 0]],\n",
    "                                            evidence=['exit_stroke_d1','exit_stroke_d2','entry_stroke_a_sim'], evidence_card=[4,4,2])\n",
    "    cpd_staff_of_d_sim = TabularCPD('staff_of_d_sim',2,[[0.9,0.1,0.9,0.7,0.9,0.7,0.9,0.1],\n",
    "                                            [0.1,0.9,0.1,0.3,0.1,0.3,0.1,0.9]],\n",
    "                                            evidence=['staff_of_d1','staff_of_d2','staff_of_a_sim'], evidence_card=[2,2,2])\n",
    "    cpd_tilt_sim = TabularCPD('tilt_sim',2,[[0.9,0.1,0.9,0.7,0.9,0.7,0.9,0.1],\n",
    "                                            [0.1,0.9,0.1,0.3,0.1,0.3,0.1,0.9]],\n",
    "                                            evidence=['tilt1','tilt2','slantness_sim'], evidence_card=[2,2,2])\n",
    "    cpd_pen_pressure_sim = TabularCPD('pen_pressure_sim',2,[[0.1,0.9,0.9,0.1],\n",
    "                                                           [0.9,0.1,0.1,0.9]],\n",
    "                                            evidence=['pen_pressure1','pen_pressure2'], evidence_card=[2,2])\n",
    "    cpd_staff_of_a_sim = TabularCPD('staff_of_a_sim',2,[[0.63, 0.86, 0.87, 0.79, 0.23, 0.13, 0.17, 0.17, 0, 0, 0, 0, 0.60, 0.61, 0.78, 0.39],\n",
    "                                                  [0.37, 0.14, 0.13, 0.21, 0.77, 0.87, 0.83, 0.83, 1, 1, 1, 1, 0.40, 0.39, 0.22, 0.61]],\n",
    "                                            evidence=['staff_of_a1','staff_of_a2'], evidence_card=[4,4])\n",
    "    cpd_slantness_sim = TabularCPD('slantness_sim',2,[[0.63, 0.86, 0.87, 0.79, 0.23, 0.13, 0.17, 0.17, 0, 0, 0, 0, 0.60, 0.61, 0.78, 0.39],\n",
    "                                                  [0.37, 0.14, 0.13, 0.21, 0.77, 0.87, 0.83, 0.83, 1, 1, 1, 1, 0.40, 0.39, 0.22, 0.61]],\n",
    "                                            evidence=['slantness1','slantness2'], evidence_card=[4,4])\n",
    "    rand_prob = list(np.around(np.random.uniform(0.0,1.0,64),2))\n",
    "    cpd_label = TabularCPD('label',2,[[0.8580167417900838, 0.8580167417900838, 0.6366459627329193, 0.6366459627329193, 0.6366459627329192, 0.6366459627329192, 0.33687705412837876, 0.33687705412837876, 0.8453901800831153, 0.8453901800831153, 0.6132075471698113, 0.6132075471698113, 0.6132075471698113, 0.6132075471698113, 0.3149100257069408, 0.3149100257069408, 0.8580167417900838, 0.8580167417900838, 0.6366459627329193, 0.6366459627329193, 0.6366459627329192, 0.6366459627329192, 0.33687705412837876, 0.33687705412837876, 0.8453901800831153, 0.8453901800831153, 0.6132075471698113, 0.6132075471698113, 0.6132075471698113, 0.6132075471698113, 0.3149100257069408, 0.3149100257069408, 0.6850899742930591, 0.6850899742930591, 0.38679245283018865, 0.38679245283018865, 0.38679245283018865, 0.38679245283018865, 0.15460981991688466, 0.15460981991688466, 0.6631229458716212, 0.6631229458716212, 0.3633540372670807, 0.3633540372670807, 0.36335403726708076, 0.36335403726708076, 0.14198325820991628, 0.14198325820991628, 0.6850899742930591, 0.6850899742930591, 0.38679245283018865, 0.38679245283018865, 0.38679245283018865, 0.38679245283018865, 0.15460981991688466, 0.15460981991688466, 0.6631229458716212, 0.6631229458716212, 0.3633540372670807, 0.3633540372670807, 0.36335403726708076, 0.36335403726708076, 0.14198325820991628, 0.14198325820991628 ],\n",
    "                                     [0.14198325820991628, 0.14198325820991628, 0.36335403726708076, 0.36335403726708076, 0.36335403726708076, 0.36335403726708076, 0.6631229458716211, 0.6631229458716211, 0.15460981991688466, 0.15460981991688466, 0.38679245283018865, 0.38679245283018865, 0.38679245283018865, 0.38679245283018865, 0.6850899742930591, 0.6850899742930591, 0.14198325820991628, 0.14198325820991628, 0.36335403726708076, 0.36335403726708076, 0.36335403726708076, 0.36335403726708076, 0.6631229458716211, 0.6631229458716211, 0.15460981991688466, 0.15460981991688466, 0.38679245283018865, 0.38679245283018865, 0.38679245283018865, 0.38679245283018865, 0.6850899742930591, 0.6850899742930591, 0.3149100257069408, 0.3149100257069408, 0.6132075471698113, 0.6132075471698113, 0.6132075471698113, 0.6132075471698113, 0.8453901800831153, 0.8453901800831153, 0.33687705412837887, 0.33687705412837887, 0.6366459627329193, 0.6366459627329193, 0.6366459627329193, 0.6366459627329193, 0.8580167417900838, 0.8580167417900838, 0.3149100257069408, 0.3149100257069408, 0.6132075471698113, 0.6132075471698113, 0.6132075471698113, 0.6132075471698113, 0.8453901800831153, 0.8453901800831153, 0.33687705412837887, 0.33687705412837887, 0.6366459627329193, 0.6366459627329193, 0.6366459627329193, 0.6366459627329193, 0.8580167417900838, 0.8580167417900838 ]],\n",
    "                           evidence=['is_continuous_sim','exit_stroke_d_sim','formation_n_sim','staff_of_d_sim','tilt_sim','pen_pressure_sim'],\n",
    "                           evidence_card=[2,2,2,2,2,2])\n",
    "    #cpd_label = TabularCPD('label',2,[[0.1,0.2],\n",
    "    #                                 [0.9,0.8]],\n",
    "    #                       evidence=['is_continuous_sim'],\n",
    "    #                       evidence_card=[2])\n",
    "    \n",
    "    combined_model.add_cpds(cpd_pen_pressure1,\n",
    "                            cpd_pen_pressure2,\n",
    "                            cpd_pen_pressure_sim,\n",
    "                            cpd_letter_spacing1,\n",
    "                            cpd_letter_spacing2,\n",
    "                            cpd_letter_spacing_sim,\n",
    "                            cpd_size1,\n",
    "                            cpd_size2,\n",
    "                            cpd_size_sim,\n",
    "                            cpd_dimension1,\n",
    "                            cpd_dimension2,\n",
    "                            cpd_dimension_sim,\n",
    "                            cpd_is_lowercase1,\n",
    "                            cpd_is_lowercase2,\n",
    "                            cpd_is_lowercase_sim,\n",
    "                            cpd_is_continuous1,\n",
    "                            cpd_is_continuous2,\n",
    "                            cpd_is_continuous_sim,\n",
    "                            cpd_slantness1,\n",
    "                            cpd_slantness2,\n",
    "                            cpd_slantness_sim,\n",
    "                            cpd_tilt1,\n",
    "                            cpd_tilt2,\n",
    "                            cpd_tilt_sim,\n",
    "                            cpd_entry_stroke_a1,\n",
    "                            cpd_entry_stroke_a2,\n",
    "                            cpd_entry_stroke_a_sim,\n",
    "                            cpd_staff_of_a1,\n",
    "                            cpd_staff_of_a2,\n",
    "                            cpd_staff_of_a_sim,\n",
    "                            cpd_formation_n1,\n",
    "                            cpd_formation_n2,\n",
    "                            cpd_formation_n_sim,\n",
    "                            cpd_staff_of_d1,\n",
    "                            cpd_staff_of_d2,\n",
    "                            cpd_staff_of_d_sim,\n",
    "                            cpd_exit_stroke_d1,\n",
    "                            cpd_exit_stroke_d2,\n",
    "                            cpd_exit_stroke_d_sim,\n",
    "                            cpd_word_formation1,\n",
    "                            cpd_word_formation2,\n",
    "                            cpd_word_formation_sim,\n",
    "                            cpd_constancy1,\n",
    "                            cpd_constancy2,\n",
    "                            cpd_constancy_sim,\n",
    "                            cpd_label\n",
    "                           )\n",
    "    train,val = datagen(datadir)\n",
    "    runtime = time.time()\n",
    "    pred =  combined_model.predict(val.drop(['label'],axis=1)-2)['label']\n",
    "    runtime = time.time() - runtime\n",
    "    return combined_model, accuracy(pred,val['label']), runtime"
   ]
  },
  {
   "cell_type": "code",
   "execution_count": 0,
   "metadata": {
    "colab": {},
    "colab_type": "code",
    "id": "NAJ7NYsSKrEw"
   },
   "outputs": [],
   "source": [
    "seen = train_similarity_model('../seen-dataset')"
   ]
  },
  {
   "cell_type": "code",
   "execution_count": 0,
   "metadata": {
    "colab": {},
    "colab_type": "code",
    "id": "ZeVuEQzYKrE6"
   },
   "outputs": [],
   "source": [
    "unseen = train_similarity_model('../unseen-dataset')"
   ]
  },
  {
   "cell_type": "code",
   "execution_count": 0,
   "metadata": {
    "colab": {},
    "colab_type": "code",
    "id": "Zh19T639KrFB"
   },
   "outputs": [],
   "source": [
    "shuffled = train_similarity_model('../shuffled-dataset')"
   ]
  },
  {
   "cell_type": "code",
   "execution_count": 0,
   "metadata": {
    "colab": {
     "base_uri": "https://localhost:8080/",
     "height": 196
    },
    "colab_type": "code",
    "id": "Wl7wYQv_KrFI",
    "outputId": "4437b54e-b23d-46d5-b6a8-cc3c1c8e7bb0"
   },
   "outputs": [
    {
     "name": "stdout",
     "output_type": "stream",
     "text": [
      "Inferencing hardcoded CPDs and similarity node\n",
      "\n",
      "Accuracy on seen data: 0.697987\n",
      "Infer on seen data: 131.942239 s\n",
      "\n",
      "Accuracy on unseen data: 0.614596\n",
      "Infer time on unseen data: 1057.064860 s\n",
      "\n",
      "Accuracy on shuffled data: 0.702672\n",
      "Infer time on shuffled data: 765.363711\n"
     ]
    }
   ],
   "source": [
    "print(\"Inferencing hardcoded CPDs and similarity node\\n\")\n",
    "print(\"Accuracy on seen data: %f\"%seen[1])\n",
    "print(\"Infer on seen data: %f s\"%seen[2])\n",
    "print()\n",
    "print(\"Accuracy on unseen data: %f\"%unseen[1])\n",
    "print(\"Infer time on unseen data: %f s\"%unseen[2])\n",
    "print()\n",
    "print(\"Accuracy on shuffled data: %f\"%shuffled[1])\n",
    "print(\"Infer time on shuffled data: %f\"%shuffled[2])"
   ]
  },
  {
   "cell_type": "markdown",
   "metadata": {
    "colab_type": "text",
    "id": "7IqvQ3Oi9rPc"
   },
   "source": [
    "## Loose estimation of CPD values for verification node"
   ]
  },
  {
   "cell_type": "code",
   "execution_count": 0,
   "metadata": {
    "colab": {},
    "colab_type": "code",
    "id": "nw5REy3J0haD"
   },
   "outputs": [],
   "source": [
    "e1 = TabularCPD('is_continuous_sim',2,[[0.9,0.1,0.9,0.6,0.9,0.6,0.9,0.1],\n",
    "                                                              [0.1,0.9,0.1,0.4,0.1,0.4,0.1,0.9]],\n",
    "                                                                evidence=['is_continuous1','is_continuous2','is_lowercase_sim'], \n",
    "                                                                evidence_card=[2,2,2])\n"
   ]
  },
  {
   "cell_type": "code",
   "execution_count": 0,
   "metadata": {
    "colab": {},
    "colab_type": "code",
    "id": "IcDl8X0N4tns"
   },
   "outputs": [],
   "source": [
    "e2 = TabularCPD('exit_stroke_d_sim',2,[[0.47, 0.53, 0.79, 0.21, 0.88, 0.12, 0.88, 0.12, 0.42, 0.58, 0.26, 0.74, 0.52, 0.48, 0.42, 0.58, 0.84, 0.16, 0.78, 0.22, 0.36, 0.64, 0.55, 0.45, 0, 1, 0, 1, 0, 1, 0, 1],\n",
    "                                                              [0.53, 0.47, 0.21, 0.79, 0.12, 0.88, 0.12, 0.88, 0.58, 0.42, 0.74, 0.26, 0.48, 0.52, 0.58, 0.42, 0.16, 0.84, 0.22, 0.78, 0.64, 0.36, 0.45, 0.55, 1, 0, 1, 0, 1, 0, 1, 0]],\n",
    "                                            evidence=['exit_stroke_d1','exit_stroke_d2','entry_stroke_a_sim'], evidence_card=[4,4,2])"
   ]
  },
  {
   "cell_type": "code",
   "execution_count": 0,
   "metadata": {
    "colab": {},
    "colab_type": "code",
    "id": "s94FaQgh4wWP"
   },
   "outputs": [],
   "source": [
    "e3 = TabularCPD('formation_n_sim',2,[[0.7,0.1,0.9,0.4,0.9,0.4,0.6,0.1],\n",
    "                                            [0.3,0.9,0.1,0.6,0.1,0.6,0.4,0.9]],\n",
    "                                            evidence=['formation_n1','formation_n2','word_formation_sim'], evidence_card=[2,2,2])"
   ]
  },
  {
   "cell_type": "code",
   "execution_count": 0,
   "metadata": {
    "colab": {},
    "colab_type": "code",
    "id": "K7JS8XG164GW"
   },
   "outputs": [],
   "source": [
    "e4 = TabularCPD('staff_of_d_sim',2,[[0.9,0.1,0.9,0.7,0.9,0.7,0.9,0.1],\n",
    "                                            [0.1,0.9,0.1,0.3,0.1,0.3,0.1,0.9]],\n",
    "                                            evidence=['staff_of_d1','staff_of_d2','staff_of_a_sim'], evidence_card=[2,2,2])"
   ]
  },
  {
   "cell_type": "code",
   "execution_count": 0,
   "metadata": {
    "colab": {},
    "colab_type": "code",
    "id": "w1iWa9HQ7HwH"
   },
   "outputs": [],
   "source": [
    "e5 = TabularCPD('tilt_sim',2,[[0.9,0.1,0.9,0.7,0.9,0.7,0.9,0.1],\n",
    "                                            [0.1,0.9,0.1,0.3,0.1,0.3,0.1,0.9]],\n",
    "                                            evidence=['tilt1','tilt2','slantness_sim'], evidence_card=[2,2,2])"
   ]
  },
  {
   "cell_type": "code",
   "execution_count": 0,
   "metadata": {
    "colab": {},
    "colab_type": "code",
    "id": "-IJRQxEB7Qoc"
   },
   "outputs": [],
   "source": [
    " e6 = TabularCPD('pen_pressure_sim',2,[[0.1,0.9,0.9,0.1],\n",
    "                                                           [0.9,0.1,0.1,0.9]],\n",
    "                                            evidence=['pen_pressure1','pen_pressure2'], evidence_card=[2,2])"
   ]
  },
  {
   "cell_type": "code",
   "execution_count": 0,
   "metadata": {
    "colab": {},
    "colab_type": "code",
    "id": "sdKVaieau2zP"
   },
   "outputs": [],
   "source": [
    "val = np.ones((2,64))\n",
    "i=0\n",
    "for a in range(2):\n",
    "    for b in range(2):\n",
    "        for c in range(2):\n",
    "            for d in range(2):\n",
    "                for e in range(2):\n",
    "                    for f in range(2):\n",
    "                        l = [e1.values[a],e2.values[b],e3.values[c],e4.values[d],e5.values[e],e6.values[f]]\n",
    "                        val[0][i]=np.product([np.mean(t) for t in l])\n",
    "                        val[1][i]=np.product([1-np.mean(t) for t in l])\n",
    "                        total = (val[0][i]+val[1][i])\n",
    "                        val[0][i]/=total\n",
    "                        val[1][i]/=total\n",
    "                        i+=1"
   ]
  },
  {
   "cell_type": "code",
   "execution_count": 0,
   "metadata": {
    "colab": {
     "base_uri": "https://localhost:8080/",
     "height": 161
    },
    "colab_type": "code",
    "id": "Duja125d7S2O",
    "outputId": "e7e9714d-5d0d-4672-ba2c-1194a11e6ca2"
   },
   "outputs": [
    {
     "data": {
      "text/html": [
       "<div>\n",
       "<style scoped>\n",
       "    .dataframe tbody tr th:only-of-type {\n",
       "        vertical-align: middle;\n",
       "    }\n",
       "\n",
       "    .dataframe tbody tr th {\n",
       "        vertical-align: top;\n",
       "    }\n",
       "\n",
       "    .dataframe thead th {\n",
       "        text-align: right;\n",
       "    }\n",
       "</style>\n",
       "<table border=\"1\" class=\"dataframe\">\n",
       "  <thead>\n",
       "    <tr style=\"text-align: right;\">\n",
       "      <th></th>\n",
       "      <th>0</th>\n",
       "      <th>1</th>\n",
       "      <th>2</th>\n",
       "      <th>3</th>\n",
       "      <th>4</th>\n",
       "      <th>5</th>\n",
       "      <th>6</th>\n",
       "      <th>7</th>\n",
       "      <th>8</th>\n",
       "      <th>9</th>\n",
       "      <th>...</th>\n",
       "      <th>54</th>\n",
       "      <th>55</th>\n",
       "      <th>56</th>\n",
       "      <th>57</th>\n",
       "      <th>58</th>\n",
       "      <th>59</th>\n",
       "      <th>60</th>\n",
       "      <th>61</th>\n",
       "      <th>62</th>\n",
       "      <th>63</th>\n",
       "    </tr>\n",
       "  </thead>\n",
       "  <tbody>\n",
       "    <tr>\n",
       "      <th>0</th>\n",
       "      <td>0.858017</td>\n",
       "      <td>0.858017</td>\n",
       "      <td>0.636646</td>\n",
       "      <td>0.636646</td>\n",
       "      <td>0.636646</td>\n",
       "      <td>0.636646</td>\n",
       "      <td>0.336877</td>\n",
       "      <td>0.336877</td>\n",
       "      <td>0.84539</td>\n",
       "      <td>0.84539</td>\n",
       "      <td>...</td>\n",
       "      <td>0.15461</td>\n",
       "      <td>0.15461</td>\n",
       "      <td>0.663123</td>\n",
       "      <td>0.663123</td>\n",
       "      <td>0.363354</td>\n",
       "      <td>0.363354</td>\n",
       "      <td>0.363354</td>\n",
       "      <td>0.363354</td>\n",
       "      <td>0.141983</td>\n",
       "      <td>0.141983</td>\n",
       "    </tr>\n",
       "    <tr>\n",
       "      <th>1</th>\n",
       "      <td>0.141983</td>\n",
       "      <td>0.141983</td>\n",
       "      <td>0.363354</td>\n",
       "      <td>0.363354</td>\n",
       "      <td>0.363354</td>\n",
       "      <td>0.363354</td>\n",
       "      <td>0.663123</td>\n",
       "      <td>0.663123</td>\n",
       "      <td>0.15461</td>\n",
       "      <td>0.15461</td>\n",
       "      <td>...</td>\n",
       "      <td>0.84539</td>\n",
       "      <td>0.84539</td>\n",
       "      <td>0.336877</td>\n",
       "      <td>0.336877</td>\n",
       "      <td>0.636646</td>\n",
       "      <td>0.636646</td>\n",
       "      <td>0.636646</td>\n",
       "      <td>0.636646</td>\n",
       "      <td>0.858017</td>\n",
       "      <td>0.858017</td>\n",
       "    </tr>\n",
       "  </tbody>\n",
       "</table>\n",
       "<p>2 rows × 64 columns</p>\n",
       "</div>"
      ],
      "text/plain": [
       "         0         1         2         3         4         5         6   \\\n",
       "0  0.858017  0.858017  0.636646  0.636646  0.636646  0.636646  0.336877   \n",
       "1  0.141983  0.141983  0.363354  0.363354  0.363354  0.363354  0.663123   \n",
       "\n",
       "         7        8        9     ...          54       55        56        57  \\\n",
       "0  0.336877  0.84539  0.84539    ...     0.15461  0.15461  0.663123  0.663123   \n",
       "1  0.663123  0.15461  0.15461    ...     0.84539  0.84539  0.336877  0.336877   \n",
       "\n",
       "         58        59        60        61        62        63  \n",
       "0  0.363354  0.363354  0.363354  0.363354  0.141983  0.141983  \n",
       "1  0.636646  0.636646  0.636646  0.636646  0.858017  0.858017  \n",
       "\n",
       "[2 rows x 64 columns]"
      ]
     },
     "execution_count": 35,
     "metadata": {
      "tags": []
     },
     "output_type": "execute_result"
    }
   ],
   "source": [
    "pd.DataFrame(val)"
   ]
  },
  {
   "cell_type": "code",
   "execution_count": 0,
   "metadata": {
    "colab": {
     "base_uri": "https://localhost:8080/",
     "height": 73
    },
    "colab_type": "code",
    "id": "B532iSnZ7gtg",
    "outputId": "37d02edb-42d4-483c-fd6d-d8b92d673b3d"
   },
   "outputs": [
    {
     "name": "stdout",
     "output_type": "stream",
     "text": [
      "[0.8580167417900838, 0.8580167417900838, 0.6366459627329193, 0.6366459627329193, 0.6366459627329192, 0.6366459627329192, 0.33687705412837876, 0.33687705412837876, 0.8453901800831153, 0.8453901800831153, 0.6132075471698113, 0.6132075471698113, 0.6132075471698113, 0.6132075471698113, 0.3149100257069408, 0.3149100257069408, 0.8580167417900838, 0.8580167417900838, 0.6366459627329193, 0.6366459627329193, 0.6366459627329192, 0.6366459627329192, 0.33687705412837876, 0.33687705412837876, 0.8453901800831153, 0.8453901800831153, 0.6132075471698113, 0.6132075471698113, 0.6132075471698113, 0.6132075471698113, 0.3149100257069408, 0.3149100257069408, 0.6850899742930591, 0.6850899742930591, 0.38679245283018865, 0.38679245283018865, 0.38679245283018865, 0.38679245283018865, 0.15460981991688466, 0.15460981991688466, 0.6631229458716212, 0.6631229458716212, 0.3633540372670807, 0.3633540372670807, 0.36335403726708076, 0.36335403726708076, 0.14198325820991628, 0.14198325820991628, 0.6850899742930591, 0.6850899742930591, 0.38679245283018865, 0.38679245283018865, 0.38679245283018865, 0.38679245283018865, 0.15460981991688466, 0.15460981991688466, 0.6631229458716212, 0.6631229458716212, 0.3633540372670807, 0.3633540372670807, 0.36335403726708076, 0.36335403726708076, 0.14198325820991628, 0.14198325820991628, ],\n",
      "[0.14198325820991628, 0.14198325820991628, 0.36335403726708076, 0.36335403726708076, 0.36335403726708076, 0.36335403726708076, 0.6631229458716211, 0.6631229458716211, 0.15460981991688466, 0.15460981991688466, 0.38679245283018865, 0.38679245283018865, 0.38679245283018865, 0.38679245283018865, 0.6850899742930591, 0.6850899742930591, 0.14198325820991628, 0.14198325820991628, 0.36335403726708076, 0.36335403726708076, 0.36335403726708076, 0.36335403726708076, 0.6631229458716211, 0.6631229458716211, 0.15460981991688466, 0.15460981991688466, 0.38679245283018865, 0.38679245283018865, 0.38679245283018865, 0.38679245283018865, 0.6850899742930591, 0.6850899742930591, 0.3149100257069408, 0.3149100257069408, 0.6132075471698113, 0.6132075471698113, 0.6132075471698113, 0.6132075471698113, 0.8453901800831153, 0.8453901800831153, 0.33687705412837887, 0.33687705412837887, 0.6366459627329193, 0.6366459627329193, 0.6366459627329193, 0.6366459627329193, 0.8580167417900838, 0.8580167417900838, 0.3149100257069408, 0.3149100257069408, 0.6132075471698113, 0.6132075471698113, 0.6132075471698113, 0.6132075471698113, 0.8453901800831153, 0.8453901800831153, 0.33687705412837887, 0.33687705412837887, 0.6366459627329193, 0.6366459627329193, 0.6366459627329193, 0.6366459627329193, 0.8580167417900838, 0.8580167417900838, ],\n"
     ]
    }
   ],
   "source": [
    "for i in range(len(val)):\n",
    "    print(\"[\",end='')\n",
    "    for j in range(len(val[0])):\n",
    "        print(val[i][j],end=', ')\n",
    "    print(\"],\")"
   ]
  }
 ],
 "metadata": {
  "colab": {
   "collapsed_sections": [],
   "name": "Task 2.ipynb",
   "provenance": [],
   "version": "0.3.2"
  },
  "kernelspec": {
   "display_name": "Python 3",
   "language": "python",
   "name": "python3"
  },
  "language_info": {
   "codemirror_mode": {
    "name": "ipython",
    "version": 3
   },
   "file_extension": ".py",
   "mimetype": "text/x-python",
   "name": "python",
   "nbconvert_exporter": "python",
   "pygments_lexer": "ipython3",
   "version": "3.6.4"
  }
 },
 "nbformat": 4,
 "nbformat_minor": 1
}
